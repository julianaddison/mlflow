{
  "nbformat": 4,
  "nbformat_minor": 0,
  "metadata": {
    "colab": {
      "provenance": [],
      "authorship_tag": "ABX9TyMdtzhd2rY0CkkVqoXlOLVk",
      "include_colab_link": true
    },
    "kernelspec": {
      "name": "python3",
      "display_name": "Python 3"
    },
    "language_info": {
      "name": "python"
    }
  },
  "cells": [
    {
      "cell_type": "markdown",
      "metadata": {
        "id": "view-in-github",
        "colab_type": "text"
      },
      "source": [
        "<a href=\"https://colab.research.google.com/github/julianaddison/mlflow/blob/main/MLflow_experiment.ipynb\" target=\"_parent\"><img src=\"https://colab.research.google.com/assets/colab-badge.svg\" alt=\"Open In Colab\"/></a>"
      ]
    },
    {
      "cell_type": "markdown",
      "source": [
        "# MLFlow Experiment"
      ],
      "metadata": {
        "id": "_vdg-zfevR3v"
      }
    },
    {
      "cell_type": "markdown",
      "source": [
        "# Setup\n",
        "Install revelant packages and login to Databricks CE via Databricks CLI"
      ],
      "metadata": {
        "id": "CnwMSaXvN1bb"
      }
    },
    {
      "cell_type": "code",
      "execution_count": null,
      "metadata": {
        "collapsed": true,
        "id": "glEvveJXse-4"
      },
      "outputs": [],
      "source": [
        "# install mlflow and databricks packages\n",
        "!pip install mlflow\n",
        "!pip install databricks-cli"
      ]
    },
    {
      "cell_type": "code",
      "source": [
        "# Input username and password\n",
        "!databricks configure --host https://community.cloud.databricks.com/"
      ],
      "metadata": {
        "collapsed": true,
        "id": "2Muc07J00Ydj"
      },
      "execution_count": null,
      "outputs": []
    },
    {
      "cell_type": "markdown",
      "source": [
        "# Configure MLflow"
      ],
      "metadata": {
        "id": "mydr5nYSOZOh"
      }
    },
    {
      "cell_type": "code",
      "source": [
        "import mlflow\n",
        "from google.colab import userdata\n",
        "import requests"
      ],
      "metadata": {
        "id": "hOnIeWDX3N0W"
      },
      "execution_count": 14,
      "outputs": []
    },
    {
      "cell_type": "code",
      "source": [
        "# get user name from collab secrets\n",
        "DATABRICKS_USERNAME = userdata.get('DatabricksUserName')\n",
        "EXPERIMENT = \"call_forecasting_test\" # call_forecasting\n",
        "\n",
        "# Configure MLflow to use Databricks\n",
        "mlflow.set_tracking_uri(\"databricks\")\n",
        "\n",
        "# Define experiment\n",
        "experiment_name = f\"/Users/{DATABRICKS_USERNAME}/{EXPERIMENT}\"\n",
        "mlflow.set_experiment(experiment_name)"
      ],
      "metadata": {
        "id": "xTCP6j7VwNLV"
      },
      "execution_count": null,
      "outputs": []
    },
    {
      "cell_type": "markdown",
      "source": [
        "# Run Experiments\n",
        "After executing the `run()` cell, switch over to your experiment window on Databricks CE to visualise the results."
      ],
      "metadata": {
        "id": "uIyol2wRNR7C"
      }
    },
    {
      "cell_type": "code",
      "source": [
        "def download_file_from_github(repo_owner, repo_name, file_path, output_path):\n",
        "    \"\"\"\n",
        "    Download a single file from a GitHub repository.\n",
        "\n",
        "    :param repo_owner: The owner of the repository (e.g., 'octocat').\n",
        "    :param repo_name: The name of the repository (e.g., 'Hello-World').\n",
        "    :param file_path: The path to the file in the repository (e.g., 'path/to/file.txt').\n",
        "    :param output_path: The local path where the file should be saved (e.g., 'file.txt').\n",
        "    \"\"\"\n",
        "    # Construct the URL to the raw file\n",
        "    url = f\"https://raw.githubusercontent.com/{repo_owner}/{repo_name}/main/{file_path}\"\n",
        "\n",
        "    # Send a GET request to the URL\n",
        "    response = requests.get(url)\n",
        "\n",
        "    # Check if the request was successful\n",
        "    if response.status_code == 200:\n",
        "        # Write the content to the output file\n",
        "        with open(output_path, 'wb') as file:\n",
        "            file.write(response.content)\n",
        "        print(f\"File downloaded successfully and saved to {output_path}\")\n",
        "    else:\n",
        "        print(f\"Failed to download file. HTTP Status Code: {response.status_code}\")"
      ],
      "metadata": {
        "id": "li6nt70lItxk"
      },
      "execution_count": 15,
      "outputs": []
    },
    {
      "cell_type": "code",
      "source": [
        "# Download call_forecasting python script from repo\n",
        "repo_owner = \"julianaddison\"\n",
        "repo_name = \"mlflow\"\n",
        "file_path = \"call_forecasting.py\"\n",
        "output_path = \"call_forecasting.py\"\n",
        "\n",
        "download_file_from_github(repo_owner, repo_name, file_path, output_path)"
      ],
      "metadata": {
        "id": "TWg7exgAIngn"
      },
      "execution_count": null,
      "outputs": []
    },
    {
      "cell_type": "code",
      "source": [
        "from call_forecasting import run\n",
        "\n",
        "# download data and run experiments\n",
        "run()"
      ],
      "metadata": {
        "collapsed": true,
        "id": "6ckznHTEzRo8"
      },
      "execution_count": null,
      "outputs": []
    }
  ]
}